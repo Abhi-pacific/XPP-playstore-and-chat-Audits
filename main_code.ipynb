{
 "cells": [
  {
   "cell_type": "code",
   "execution_count": 4,
   "id": "5401fd86",
   "metadata": {},
   "outputs": [],
   "source": [
    "#    !pip install pandas\n",
    "import pandas as pd"
   ]
  },
  {
   "cell_type": "markdown",
   "id": "1a1b9f78",
   "metadata": {},
   "source": [
    "Loading the file"
   ]
  },
  {
   "cell_type": "code",
   "execution_count": 8,
   "id": "109fbb83",
   "metadata": {},
   "outputs": [
    {
     "data": {
      "text/plain": [
       "['Daily Report',\n",
       " 'Sheet1',\n",
       " 'Fatal Error',\n",
       " 'Day wise Performance',\n",
       " 'Advisor wise Performance',\n",
       " '  Campaign Wise Performance',\n",
       " 'Fatal Audit Feedback',\n",
       " 'Month Comparison',\n",
       " 'Sheet10',\n",
       " 'Advisor wise audit count',\n",
       " 'Wk wise',\n",
       " 'Day wise audit count',\n",
       " 'Raw',\n",
       " 'Advisor details']"
      ]
     },
     "execution_count": 8,
     "metadata": {},
     "output_type": "execute_result"
    }
   ],
   "source": [
    "raw_file = pd.ExcelFile(r\"D:\\PythonScripts\\XPP-playstore and chat Audits\\XPP-Play store and Chat Audit Report till 29 Sep'25.xlsx\",engine='openpyxl')\n",
    "raw_file.sheet_names"
   ]
  },
  {
   "cell_type": "code",
   "execution_count": null,
   "id": "e34180ae",
   "metadata": {},
   "outputs": [],
   "source": []
  }
 ],
 "metadata": {
  "kernelspec": {
   "display_name": ".venv",
   "language": "python",
   "name": "python3"
  },
  "language_info": {
   "codemirror_mode": {
    "name": "ipython",
    "version": 3
   },
   "file_extension": ".py",
   "mimetype": "text/x-python",
   "name": "python",
   "nbconvert_exporter": "python",
   "pygments_lexer": "ipython3",
   "version": "3.13.4"
  }
 },
 "nbformat": 4,
 "nbformat_minor": 5
}
